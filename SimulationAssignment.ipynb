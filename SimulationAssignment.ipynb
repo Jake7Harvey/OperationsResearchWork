{
  "nbformat": 4,
  "nbformat_minor": 0,
  "metadata": {
    "colab": {
      "provenance": [],
      "authorship_tag": "ABX9TyMwvla2IFIZmYvQNnMIrjgy",
      "include_colab_link": true
    },
    "kernelspec": {
      "name": "python3",
      "display_name": "Python 3"
    },
    "language_info": {
      "name": "python"
    }
  },
  "cells": [
    {
      "cell_type": "markdown",
      "metadata": {
        "id": "view-in-github",
        "colab_type": "text"
      },
      "source": [
        "<a href=\"https://colab.research.google.com/github/Jake7Harvey/OperationsResearchWork/blob/main/SimulationAssignment.ipynb\" target=\"_parent\"><img src=\"https://colab.research.google.com/assets/colab-badge.svg\" alt=\"Open In Colab\"/></a>"
      ]
    },
    {
      "cell_type": "markdown",
      "source": [
        "#Simulation Assignment\n",
        "\n",
        "On exam 1, I proposed the problem of having 10 cases of water with 10 bottles in each case and 10 oz in each bottle. One case is known to be filled with one ounce less than all the other bottles. Jacob proposed a random selection method for finding the case with the bottles that have less water. Essentially he'll pull one bottle and test it. If it is 9 ounces, he has found the case that is short. Let's explore this random test.\n",
        "\n",
        "1. Write a random function call that returns 10 ounces 9 out of 10 times and 9 ounces one out of ten.\n",
        "\n",
        "2. What is the expected weight of a random pull?\n",
        "\n",
        "3. Test your expected weight by running a simmulation drawing at least 100 bottles and taking the average of the wieghts. Does it agree with your theoretical result?\n",
        "\n",
        "4. We are particuarly interested in how many pulls would be required to find the case that was short. If you test one at a time, how many pulls do you expect before you find the case that is short?\n",
        "\n",
        "5. Create a function that creates a sequence of pulling bottles and stops when you find the bottle with 9 ounces. Test this function a bunch of times. Do you notice anything odd when comparing it to your previous result?\n",
        "\n",
        "6. Propose a modification to the coding you did in the first step that would improve the results. Hint: Consider a different data structure that would be more applicable to the real world case."
      ],
      "metadata": {
        "id": "5IMs9le2nxrK"
      }
    },
    {
      "cell_type": "markdown",
      "source": [
        "##1."
      ],
      "metadata": {
        "id": "CArTd31rrLcQ"
      }
    },
    {
      "cell_type": "code",
      "source": [
        "import random\n",
        "\n",
        "randomBottle = [10, 9]\n",
        "random.choices(randomBottle, weights=(.9, .1), k=1)"
      ],
      "metadata": {
        "colab": {
          "base_uri": "https://localhost:8080/"
        },
        "id": "_mzud_JJrBxt",
        "outputId": "53ca3bf5-b5c6-4d4e-c38c-b76fb23105b8"
      },
      "execution_count": 383,
      "outputs": [
        {
          "output_type": "execute_result",
          "data": {
            "text/plain": [
              "[10]"
            ]
          },
          "metadata": {},
          "execution_count": 383
        }
      ]
    },
    {
      "cell_type": "markdown",
      "source": [
        "## 2."
      ],
      "metadata": {
        "id": "sSrfxtp8vvrn"
      }
    },
    {
      "cell_type": "markdown",
      "source": [
        "$10(.9) + 9(.1) = 9.9$"
      ],
      "metadata": {
        "id": "SQkYjeWyyjrX"
      }
    },
    {
      "cell_type": "markdown",
      "source": [
        "## 3."
      ],
      "metadata": {
        "id": "6fj2YuERzrs-"
      }
    },
    {
      "cell_type": "code",
      "source": [
        "import random\n",
        "\n",
        "bottlesPicked=[]\n",
        "randomBottles = [10, 9]\n",
        "\n",
        "bottlesPicked=random.choices(randomBottles, weights=(.9, .1), k=100)\n",
        "\n",
        "print(sum(bottlesPicked)/100)\n",
        ""
      ],
      "metadata": {
        "id": "UVG5iMuFuT8A",
        "colab": {
          "base_uri": "https://localhost:8080/"
        },
        "outputId": "b5cf778f-6977-4ec0-c939-c30d9719077d"
      },
      "execution_count": 393,
      "outputs": [
        {
          "output_type": "stream",
          "name": "stdout",
          "text": [
            "9.92\n"
          ]
        }
      ]
    },
    {
      "cell_type": "markdown",
      "source": [
        "It does not agree completley with the theoritical, but it is pretty close."
      ],
      "metadata": {
        "id": "zcfDJ6ogiPPj"
      }
    },
    {
      "cell_type": "markdown",
      "source": [
        "##4."
      ],
      "metadata": {
        "id": "VW0e9SkCLQHr"
      }
    },
    {
      "cell_type": "markdown",
      "source": [
        "Worst case scenario, 10\n",
        "\n",
        "Best case scenario, 1"
      ],
      "metadata": {
        "id": "3esnQMzJLSYU"
      }
    },
    {
      "cell_type": "markdown",
      "source": [
        "## 5."
      ],
      "metadata": {
        "id": "ZxaCxi7XCr1q"
      }
    },
    {
      "cell_type": "code",
      "source": [
        "import random\n",
        "\n",
        "randomBottles = [10, 9]\n",
        "total=0\n",
        "rightOrWrong = True\n",
        "\n",
        "while rightOrWrong == True:\n",
        "  random.choices(randomBottles, weights=(.9, .1), k=1)\n",
        "  if (random.choices(randomBottles, weights=(.9, .1), k=1)) == [9]:\n",
        "    total += 1\n",
        "    print(\"The total number of pulls to find the short case is:\", total)\n",
        "    rightOrWrong = False\n",
        "  else:\n",
        "    total += 1"
      ],
      "metadata": {
        "colab": {
          "base_uri": "https://localhost:8080/"
        },
        "id": "lzc97xfPCtzq",
        "outputId": "d1d081e2-0a0a-4513-83ba-d67be408e54e"
      },
      "execution_count": 387,
      "outputs": [
        {
          "output_type": "stream",
          "name": "stdout",
          "text": [
            "The total number of pulls to find the short case is: 14\n"
          ]
        }
      ]
    },
    {
      "cell_type": "markdown",
      "source": [
        "The odd thing is that it can be more than the worst case scenario."
      ],
      "metadata": {
        "id": "C3FVq7FKgsnw"
      }
    },
    {
      "cell_type": "markdown",
      "source": [
        "##6."
      ],
      "metadata": {
        "id": "TdPyARl_geqz"
      }
    },
    {
      "cell_type": "markdown",
      "source": [
        "The modification I would make is as the bottles are drawn at random, the probabilities will also change. Instead of it always being .1 of a chance to grab the odd case, the probability changes to match the rest of the remaing bottles making it more likely to be drawn within the worst scenario range. This would also make sure that in step 5 the numbers it would take to draw would be between 1 and 10."
      ],
      "metadata": {
        "id": "rGBgnGVdg_Qz"
      }
    }
  ]
}