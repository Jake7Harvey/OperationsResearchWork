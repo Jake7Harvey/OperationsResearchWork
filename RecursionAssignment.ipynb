{
  "nbformat": 4,
  "nbformat_minor": 0,
  "metadata": {
    "colab": {
      "provenance": [],
      "authorship_tag": "ABX9TyMSXGFzLWAp63f/gw/vIgKh",
      "include_colab_link": true
    },
    "kernelspec": {
      "name": "python3",
      "display_name": "Python 3"
    },
    "language_info": {
      "name": "python"
    }
  },
  "cells": [
    {
      "cell_type": "markdown",
      "metadata": {
        "id": "view-in-github",
        "colab_type": "text"
      },
      "source": [
        "<a href=\"https://colab.research.google.com/github/Jake7Harvey/OperationsResearchWork/blob/main/RecursionAssignment.ipynb\" target=\"_parent\"><img src=\"https://colab.research.google.com/assets/colab-badge.svg\" alt=\"Open In Colab\"/></a>"
      ]
    },
    {
      "cell_type": "markdown",
      "source": [
        "# Recursion Assignment\n",
        "\n",
        "Solve the recursion\n",
        "$$\n",
        "f(n) = 7f(n-1)-10f(n-2)\\quad f(0) = 1\\quad f(1)=3\n",
        "$$\n",
        "\n",
        "1. Using mathematical method taught in class to get analytic equation.  Type up details and program function\n",
        "2. Using dynamic programming.\n",
        "3. Using dynamic programming and memoization.\n",
        "4. Compare the results of each function.  Discuss the advantages and disadvantages of each method.  Consider difficulty of solving and the time it would take to get the 1000 entry of the sequence in each of the three solutions."
      ],
      "metadata": {
        "id": "I5SbTlPagWdR"
      }
    },
    {
      "cell_type": "markdown",
      "source": [
        "#1.)"
      ],
      "metadata": {
        "id": "AovQSu9SgfLF"
      }
    },
    {
      "cell_type": "markdown",
      "source": [
        "$ar^n=7ar^{n-1}-10ar^{n-2}$<br>\n",
        "$ar^n-7ar^{n-1}+10ar^{n-2}=0$<br>\n",
        "$ar^{n-2}(r^2-7r+10)$<br>\n",
        "$(r^2-7r+10)$<br>\n",
        "$(r-5)(r-2)$<br>\n",
        "$f = a * 5^n + b * 2^n$<br>\n",
        "$f(0)=1=a*5^0+b*2^0$ <center>$1 = a + b$</center><br>\n",
        "$f(1)=3=a*5^1+b*2^1$ <center>$3 = 5a + 2b$</center><br>\n",
        "$\\frac{1=a+b}{3=5a+2b}$<br>\n",
        "$\\frac{-5(1=a+b)}{3=5a+2b}$<br>\n",
        "$\\frac{-5=-5a-5b}{3=5a+2b}$<br>\n",
        "$-2=-3b$<br>\n",
        "$b=\\frac{2}{3}$<br>\n",
        "$1=a+\\frac{2}{3}$<br>\n",
        "$a=\\frac{1}{3}$<br>\n",
        "<center>$f(n)=\\frac{1}{3}(5)^n+\\frac{2}{3}(2)^n$</center><br>"
      ],
      "metadata": {
        "id": "aH2vkr4Qgfxs"
      }
    },
    {
      "cell_type": "markdown",
      "source": [
        "#2.)"
      ],
      "metadata": {
        "id": "XMNuulekgljs"
      }
    },
    {
      "cell_type": "code",
      "source": [
        "def f(n):\n",
        "  if n==0:\n",
        "    return 1\n",
        "  elif n==1:\n",
        "    return 3\n",
        "  else:\n",
        "    return 7*f(n-1)-10*f(n-2)"
      ],
      "metadata": {
        "id": "R7_f9J_rgoVx"
      },
      "execution_count": 1,
      "outputs": []
    },
    {
      "cell_type": "code",
      "source": [
        "f(3)"
      ],
      "metadata": {
        "colab": {
          "base_uri": "https://localhost:8080/"
        },
        "id": "Ogny3CrCgtqx",
        "outputId": "7ae0d5de-1017-4aa1-bf6a-eab128fb5abe"
      },
      "execution_count": 2,
      "outputs": [
        {
          "output_type": "execute_result",
          "data": {
            "text/plain": [
              "47"
            ]
          },
          "metadata": {},
          "execution_count": 2
        }
      ]
    },
    {
      "cell_type": "markdown",
      "source": [
        "#3.)"
      ],
      "metadata": {
        "id": "NEBtYMs2gvQX"
      }
    },
    {
      "cell_type": "code",
      "source": [
        "nlist =[1, 3]\n",
        "\n",
        "def fM(n):\n",
        "  if len(nlist)>n:\n",
        "    return nlist[n]\n",
        "  else:\n",
        "    for i in range(len(nlist),n+1):\n",
        "      nlist.append(7*nlist[i-1]-10*nlist[i-2])\n",
        "      return nlist[n]"
      ],
      "metadata": {
        "id": "-McdkQbygymV"
      },
      "execution_count": 5,
      "outputs": []
    },
    {
      "cell_type": "code",
      "source": [
        "fM(5)"
      ],
      "metadata": {
        "colab": {
          "base_uri": "https://localhost:8080/"
        },
        "id": "BEM-DaJ_g1GP",
        "outputId": "e0a3eceb-b64a-4bfd-8eec-9fe6a082cb7a"
      },
      "execution_count": 21,
      "outputs": [
        {
          "output_type": "execute_result",
          "data": {
            "text/plain": [
              "1063"
            ]
          },
          "metadata": {},
          "execution_count": 21
        }
      ]
    },
    {
      "cell_type": "code",
      "source": [
        "nlist"
      ],
      "metadata": {
        "colab": {
          "base_uri": "https://localhost:8080/"
        },
        "id": "e3VsFoqMg8k5",
        "outputId": "a42cb64f-5e3a-4a8d-d551-b14d165d6230"
      },
      "execution_count": 22,
      "outputs": [
        {
          "output_type": "execute_result",
          "data": {
            "text/plain": [
              "[1,\n",
              " 3,\n",
              " 11,\n",
              " 47,\n",
              " 219,\n",
              " 1063,\n",
              " 5251,\n",
              " 26127,\n",
              " 130379,\n",
              " 651383,\n",
              " 3255891,\n",
              " 16277407,\n",
              " 81382939]"
            ]
          },
          "metadata": {},
          "execution_count": 22
        }
      ]
    },
    {
      "cell_type": "markdown",
      "source": [
        "#4.)"
      ],
      "metadata": {
        "id": "w3O8apDqg7s1"
      }
    },
    {
      "cell_type": "markdown",
      "source": [
        "With each style, I came to the same answer for each number. Depending on how big the \"n\" number is each style has its own pros and cons. Analytically is real good at finding the equation for the problem, which simplifies the problem. It does however take a little bit of time to compute by hand, and leaves room for error. Dynamic programming is easy to use, and with a few lines of code you can get the answer much quicker, but when the \"n\" numbers are larger it takes far longer to compute becuase it goes from the start to that number. Dynamic programming with memoization is by far the best to use. When you use a list to store previous values, it cuts the run time down tremendously. This method does take a few more lines of code to do, and when it is calculating a number it has not done yet it can still take a little bit to compute. When calculating the 1000 entry, dynamic programming with memoization is by far the quickest and easiest way to compute it. Analytically would take forever by hand, and just dynamic programming could take a lifetime to compute just to have an error pop up halfway through."
      ],
      "metadata": {
        "id": "4de9Vb_NhgN-"
      }
    }
  ]
}