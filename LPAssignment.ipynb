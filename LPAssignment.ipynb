{
  "nbformat": 4,
  "nbformat_minor": 0,
  "metadata": {
    "colab": {
      "provenance": [],
      "include_colab_link": true
    },
    "kernelspec": {
      "name": "python3",
      "display_name": "Python 3"
    },
    "language_info": {
      "name": "python"
    }
  },
  "cells": [
    {
      "cell_type": "markdown",
      "metadata": {
        "id": "view-in-github",
        "colab_type": "text"
      },
      "source": [
        "<a href=\"https://colab.research.google.com/github/Jake7Harvey/OperationsResearchWork/blob/main/LPAssignment.ipynb\" target=\"_parent\"><img src=\"https://colab.research.google.com/assets/colab-badge.svg\" alt=\"Open In Colab\"/></a>"
      ]
    },
    {
      "cell_type": "markdown",
      "source": [
        "# Linear Programming Assignment"
      ],
      "metadata": {
        "id": "31GxmqsFEuzW"
      }
    },
    {
      "cell_type": "markdown",
      "source": [
        "## Redo a WeBWorK Question Using Python"
      ],
      "metadata": {
        "id": "xWsxg3k-EzBs"
      }
    },
    {
      "cell_type": "markdown",
      "source": [
        "###Consider WW Set 03 Problem 3.  Using python, do the following:\n",
        "1. Copy your problem here.\n",
        "1. Find corner points.  \n",
        "2. Graph feasible set.\n",
        "3. Find the corner that maximizes the objective function $P = 3x+2y$.\n",
        "4. Introduce slack variables, find the corner points again."
      ],
      "metadata": {
        "id": "eLQofNfAGgoS"
      }
    },
    {
      "cell_type": "markdown",
      "source": [
        "1.\n",
        "----\n",
        "Given the system of inequalities below, determine the shape of the feasible region and find the vertices of the feasible region. Give the shape as \"triangle\", \"quadrilateral\", or \"unbounded\". Report your vertices starting with the one which has the smallest x\n",
        "\\-value. If more than one vertex has the same, smallest x\n",
        "\\-value, start with the one that has the smallest y\n",
        "\\-value. Proceed clockwise from the first vertex. Leave any unnecessary answer spaces blank.\n",
        "\n",
        "<center>x + y ≤ 5\n",
        "\n",
        "2x + y ≥ 7\n",
        "\n",
        "x ≥ 0\n",
        "\n",
        "y ≥ 0</center>"
      ],
      "metadata": {
        "id": "vdXnXUFWTpGP"
      }
    },
    {
      "cell_type": "markdown",
      "source": [
        "2.\n",
        "________________\n",
        "\\begin{matrix}x + y = 5\\\\2x + y = 7\\end{matrix}\n",
        "$~$\n",
        "\\begin{matrix}-2(x + y = 5)\\\\2x + y = 7\\end{matrix}\n",
        "$~$\n",
        "\\begin{matrix}-2x - 2y = -10\\\\2x + y = 7\\end{matrix}\n",
        "$~$\n",
        "\\begin{matrix}-1y = -3\\end{matrix}\n",
        "$~$\n",
        "\\begin{matrix}y = 3\\end{matrix}\n",
        "$~$\n",
        "\\begin{matrix}2x + (3) = 7\\end{matrix}\n",
        "$~$\n",
        "\\begin{matrix}2x = 4\\end{matrix}\n",
        "$~$\n",
        "\\begin{matrix}x = 2\\end{matrix}\n",
        "$~$\n",
        "$(2,3)$"
      ],
      "metadata": {
        "id": "sYJAcIH2-qHW"
      }
    },
    {
      "cell_type": "markdown",
      "source": [
        "$~$\n",
        "<center>$x + y ≤ 5 → x + 0 = 5 → x = 5$</center>\n",
        "$~$\n",
        "<center>$x + y ≤ 5 → 0 + y = 5 → y = 5$</center>\n",
        "$~$\n",
        "<center>$2x + y ≥ 7 → 2x + 0 ≥ 7 → x = \\frac{7}{2}$</center>\n",
        "$~$\n",
        "<center>$2x + y ≥ 7 → 2(0) + y ≥ 7 → y = 7$</center>\n",
        "$~$\n",
        "<center>$(5,0)(0,5)(\\frac{7}{2},0)(0,7)$</center>"
      ],
      "metadata": {
        "id": "lnsJJCmFBuHZ"
      }
    },
    {
      "cell_type": "markdown",
      "source": [
        "<center>$x + y ≤ 5$</center>\n",
        "$~$\n",
        "<center>$2x + y ≥ 7$</center>\n",
        "$~$\n",
        "<center>$5 + 0 ≤ 5$ Yes</center>\n",
        "$~$\n",
        "<center>$2(5) + 0 ≥ 7$ Yes</center>\n",
        "$(5,0)$ Yes\n",
        "<center>$0 + 5 ≤ 5$ Yes</center>\n",
        "$~$\n",
        "<center>$2(0) + 5 ≥ 7$ No</center>\n",
        "$(0,5)$ No\n",
        "$~$\n",
        "<center>$\\frac{7}{2} + 0 ≤ 5$ Yes</center>\n",
        "$~$\n",
        "<center>$2(\\frac{7}{2}) + 0 ≥ 7$ Yes</center>\n",
        "$(\\frac{7}{2}, 0)$ Yes\n",
        "$~$\n",
        "<center>$0 + 7 ≤ 5$ No</center>\n",
        "$~$\n",
        "<center>$2(0) + 7 ≥ 7$ Yes</center>\n",
        "$(0,7)$ No"
      ],
      "metadata": {
        "id": "eytIiBxSCCDs"
      }
    },
    {
      "cell_type": "markdown",
      "source": [
        "$Cornor Points: (2,3),(\\frac{7}{2},0),(5,0) $"
      ],
      "metadata": {
        "id": "Y0KpNNswFIu2"
      }
    },
    {
      "cell_type": "markdown",
      "source": [
        "3.\n",
        "____"
      ],
      "metadata": {
        "id": "RiSVSaPsFSAO"
      }
    },
    {
      "cell_type": "code",
      "source": [
        "import matplotlib.pyplot as plt\n",
        "\n",
        "line1x = [0, 5]\n",
        "line1y = [5, 0]\n",
        "\n",
        "line2x = [0, 7/2]\n",
        "line2y= [7, 0]\n",
        "\n",
        "plt.plot(line1x,line1y, color=\"black\")\n",
        "plt.plot(line2x,line2y, color=\"black\")\n",
        "plt.scatter(5,0, s = 100, color = \"black\")\n",
        "plt.scatter(7/2,0, s = 100, color = \"black\")\n",
        "plt.scatter(2,3, s = 100, color = \"black\")"
      ],
      "metadata": {
        "id": "1Hpts0Tx33xQ",
        "outputId": "649cc43a-cb9f-4f22-e0ab-edc77858c314",
        "colab": {
          "base_uri": "https://localhost:8080/",
          "height": 447
        }
      },
      "execution_count": 16,
      "outputs": [
        {
          "output_type": "execute_result",
          "data": {
            "text/plain": [
              "<matplotlib.collections.PathCollection at 0x7e19d08057e0>"
            ]
          },
          "metadata": {},
          "execution_count": 16
        },
        {
          "output_type": "display_data",
          "data": {
            "text/plain": [
              "<Figure size 640x480 with 1 Axes>"
            ],
            "image/png": "[encoded data removed]"
          },
          "metadata": {}
        }
      ]
    },
    {
      "cell_type": "markdown",
      "source": [
        "4.\n",
        "___________\n",
        "$Points: (2,3),(5,0),(\\frac{7}{2},0) $\n",
        "\n",
        "$P = 3x + 2y$\n",
        "\n",
        "$P = 3(2) + 2(3) = 12$\n",
        "\n",
        "$P = 3(5) + 2(0) = 15$\n",
        "\n",
        "$P = 3(\\frac{7}{2}) + 2(0) = \\frac{21}{2}$\n",
        "\n",
        "$Max: 15, (5,0)$"
      ],
      "metadata": {
        "id": "LdA12bEaruJm"
      }
    },
    {
      "cell_type": "markdown",
      "source": [
        "5.\n",
        "________\n",
        "$x + y ≤ 5$\n",
        "\n",
        "$2x + y ≥ 7$\n",
        "\n",
        "$x ≥ 0$\n",
        "\n",
        "$y ≥ 0$\n",
        "\n",
        "Slack variables\n",
        "\n",
        "$x + y + S_1 = 5$\n",
        "\n",
        "$2x + y - S_2 = 7$\n",
        "\n",
        "$CornorPoints:(2,3),(\\frac{7}{2},0),(5,0),(0,5),(0,7)$"
      ],
      "metadata": {
        "id": "8YNF6W0CthN7"
      }
    },
    {
      "cell_type": "markdown",
      "source": [
        "## Redo a WeBWorK Question Using Python"
      ],
      "metadata": {
        "id": "OwGWpGToIx-L"
      }
    },
    {
      "cell_type": "markdown",
      "source": [
        "Consider WW Set 04 Problem 6.  Using python, do the following:\n",
        "1. Write the equations that describe the problem completely using $\\LaTeX$ encoding.   \n",
        "1. Find corner points.  \n",
        "2. Graph feasible set.\n",
        "3. Find the corner that maximizes the objective function.\n",
        "4. Introduce slack variables, find the corner points again."
      ],
      "metadata": {
        "id": "H7uUoaW6Ix-O"
      }
    },
    {
      "cell_type": "markdown",
      "source": [
        "1.\n",
        "_____\n",
        "\n",
        "A company manufactures two models of snowboards, standard and deluxe. Each deluxe model requires 24 hours to produce, and 60 units of material. Each standard model requires 12 hours to produce and 50 units of material. The company has 840 production hours available and 2500 units of material in stock. The deluxe model sells for \\$280 and the standard model sells for $200."
      ],
      "metadata": {
        "id": "rLTnCGYdzSqN"
      }
    },
    {
      "cell_type": "markdown",
      "source": [
        "$P = 280x + 200y$\n",
        "\n",
        "$60x + 50y ≤ 2500$\n",
        "\n",
        "$24x + 12y ≤ 840$\n",
        "\n",
        "$x,y ≥ 0$"
      ],
      "metadata": {
        "id": "m2A8yG1WzwdT"
      }
    },
    {
      "cell_type": "markdown",
      "source": [
        "2.\n",
        "____\n",
        "<center>\n",
        "$60x + 50y ≤ 2500$\n",
        "\n",
        "$24x + 12y ≤ 840$\n",
        "\n",
        "$60x + 50y = 2500$\n",
        "\n",
        "$-\\frac{5}{2}(24x + 12y = 840)$\n",
        "\n",
        "$60x + 50y = 2500$\n",
        "\n",
        "$-60x - 30y = -2100$\n",
        "\n",
        "$20y = 400$\n",
        "\n",
        "$y = 20$\n",
        "\n",
        "$24x + 12(20) = 840$\n",
        "\n",
        "$24x + 240 = 840$\n",
        "\n",
        "$24x = 600$\n",
        "\n",
        "$x = 25$\n",
        "</center>\n",
        "$(25,20)$"
      ],
      "metadata": {
        "id": "UDCQU0Bt0sFF"
      }
    },
    {
      "cell_type": "markdown",
      "source": [
        "<center>\n",
        "$60x + 50y ≤ 2500 → 60x + 50(0) = 2500 → x = \\frac{125}{3}$\n",
        "\n",
        "$60x + 50y ≤ 2500 → 60(0) + 50y = 2500 → y = 50$\n",
        "\n",
        "$24x + 12y ≤ 840 → 24x + 12(0) = 840 → x = 35$\n",
        "\n",
        "$24x + 12y ≤ 840 → 24(0) + 12y = 840 → y = 70$\n",
        "\n",
        "$(\\frac{125}{3},0)(0,50)(35,0)(0,70),(0,0)$\n",
        "\n",
        "$60(\\frac{125}{3}) + 50(0) ≤ 2500$ Yes\n",
        "\n",
        "$24(\\frac{125}{3}) + 12(0) ≤ 840$ No\n",
        "</center>\n",
        "$(\\frac{125}{3},0)$ No\n",
        "<center>\n",
        "$60(0) + 50(50) ≤ 2500$ Yes\n",
        "\n",
        "$24(0) + 12(50) ≤ 840$ Yes\n",
        "</center>\n",
        "$(0,50)$ Yes\n",
        "<center>\n",
        "$60(35) + 50(0) ≤ 2500$ Yes\n",
        "\n",
        "$24(35) + 12(0) ≤ 840$ Yes\n",
        "</center>\n",
        "$(35,0)$ Yes\n",
        "<center>\n",
        "$60(0) + 50(70) ≤ 2500$ No\n",
        "\n",
        "$24(0) + 12(70) ≤ 840$ Yes\n",
        "</center>\n",
        "$(0,70)$ No"
      ],
      "metadata": {
        "id": "lvMrkdJH4I0M"
      }
    },
    {
      "cell_type": "markdown",
      "source": [
        "$Cornor Points: (25,20),(0,50),(35,0),(0,0) $"
      ],
      "metadata": {
        "id": "cpSxn7nm9y53"
      }
    },
    {
      "cell_type": "markdown",
      "source": [
        "3.\n",
        "______"
      ],
      "metadata": {
        "id": "omaj5cAM99CR"
      }
    },
    {
      "cell_type": "code",
      "source": [
        "import matplotlib.pyplot as plt\n",
        "\n",
        "line1x = [0, 125/3]\n",
        "line1y = [50, 0]\n",
        "\n",
        "line2x = [0, 35]\n",
        "line2y= [70, 0]\n",
        "\n",
        "plt.plot(line1x,line1y, color=\"black\")\n",
        "plt.plot(line2x,line2y, color=\"black\")\n",
        "plt.scatter(25,20, s = 100, color = \"black\")\n",
        "plt.scatter(0,50, s = 100, color = \"black\")\n",
        "plt.scatter(35,0, s = 100, color = \"black\")\n",
        "plt.scatter(0,0, s = 100, color = \"black\")"
      ],
      "metadata": {
        "id": "iyqRK5it-DZl",
        "outputId": "a80fa981-b9d8-4536-f848-ac9b56686e93",
        "colab": {
          "base_uri": "https://localhost:8080/",
          "height": 447
        }
      },
      "execution_count": 20,
      "outputs": [
        {
          "output_type": "execute_result",
          "data": {
            "text/plain": [
              "<matplotlib.collections.PathCollection at 0x7e19d0904cd0>"
            ]
          },
          "metadata": {},
          "execution_count": 20
        },
        {
          "output_type": "display_data",
          "data": {
            "text/plain": [
              "<Figure size 640x480 with 1 Axes>"
            ],
            "image/png": "[encoded data removed]"
          },
          "metadata": {}
        }
      ]
    },
    {
      "cell_type": "markdown",
      "source": [
        "4.\n",
        "____\n",
        "$Points: (25,20),(0,50),(35,0),(0,0) $\n",
        "\n",
        "$P = 280x + 200y$\n",
        "\n",
        "$P = 280(25) + 200(20) = 11000$\n",
        "\n",
        "$P = 280(0) + 200(50) = 10000$\n",
        "\n",
        "$P = 280(35) + 200(0) = 9800$\n",
        "\n",
        "$P = 280(0) + 200(0) = 0$\n",
        "\n",
        "$Max: 11000, (25,20)$"
      ],
      "metadata": {
        "id": "5wn9_PtY_ILs"
      }
    },
    {
      "cell_type": "markdown",
      "source": [
        "5.\n",
        "________\n",
        "$60x + 50y ≤ 2500$\n",
        "\n",
        "$24x + 12y ≤ 840$\n",
        "\n",
        "$x,y ≥ 0$\n",
        "\n",
        "Slack variables\n",
        "\n",
        "$60x + 50y + S_1 = 2500$\n",
        "\n",
        "$24x + 12y + S_2 = 840$\n",
        "\n",
        "$CornorPoints:(25,20),(0,50),(35,0),(0,0),(0,70),(\\frac{125}{3},0)$"
      ],
      "metadata": {
        "id": "iz50CoZMAPi2"
      }
    }
  ]
}